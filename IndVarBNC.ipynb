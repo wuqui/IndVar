{
 "cells": [
  {
   "cell_type": "markdown",
   "metadata": {
    "Collapsed": "false"
   },
   "source": [
    "# Load packages\n",
    "\n",
    "Package requirements are stored in `requirements.yml`."
   ]
  },
  {
   "cell_type": "code",
   "execution_count": 1,
   "metadata": {
    "Collapsed": "false"
   },
   "outputs": [],
   "source": [
    "import os\n",
    "import random\n",
    "from collections import defaultdict\n",
    "from pprint import pprint\n",
    "\n",
    "import numpy as np\n",
    "import pandas as pd\n",
    "\n",
    "from lxml import etree\n",
    "\n",
    "import altair as alt\n",
    "#alt.data_transformers.disable_max_rows()"
   ]
  },
  {
   "cell_type": "markdown",
   "metadata": {
    "Collapsed": "false"
   },
   "source": [
    "# Variables"
   ]
  },
  {
   "cell_type": "markdown",
   "metadata": {
    "Collapsed": "false"
   },
   "source": [
    "BNC2014 needs to be downloaded for this script to work. It can be obtained from the official [BNC website](http://corpora.lancs.ac.uk/bnc2014/). \n",
    "\n",
    "The following variables need to be updated to the corpus' local path. In the current setting the BNC2014 data were stored in the project folder in the folder `data`, so relative paths were used."
   ]
  },
  {
   "cell_type": "code",
   "execution_count": 2,
   "metadata": {
    "Collapsed": "false"
   },
   "outputs": [],
   "source": [
    "dir_corpus = 'data/spoken/tagged/'\n",
    "dir_meta = 'data/spoken/metadata/'"
   ]
  },
  {
   "cell_type": "markdown",
   "metadata": {
    "Collapsed": "false"
   },
   "source": [
    "# Load and parse XML"
   ]
  },
  {
   "cell_type": "code",
   "execution_count": 3,
   "metadata": {
    "Collapsed": "false"
   },
   "outputs": [],
   "source": [
    "f_names = os.listdir(dir_corpus)\n",
    "f_paths = [f\"{dir_corpus}{f_name}\" for f_name in f_names]"
   ]
  },
  {
   "cell_type": "code",
   "execution_count": 4,
   "metadata": {
    "Collapsed": "false"
   },
   "outputs": [],
   "source": [
    "def get_xml(f_path):\n",
    "    with open(f_path, 'r') as f:\n",
    "        f = f.read()\n",
    "    xml = etree.fromstring(f)\n",
    "    return xml"
   ]
  },
  {
   "cell_type": "markdown",
   "metadata": {
    "Collapsed": "false",
    "toc-hr-collapsed": false
   },
   "source": [
    "# Corpus size"
   ]
  },
  {
   "cell_type": "markdown",
   "metadata": {
    "Collapsed": "false"
   },
   "source": [
    "## Texts\n",
    "\n",
    "Calculate the total number of texts in the corpus."
   ]
  },
  {
   "cell_type": "code",
   "execution_count": 5,
   "metadata": {
    "Collapsed": "false"
   },
   "outputs": [
    {
     "name": "stdout",
     "output_type": "stream",
     "text": [
      "CPU times: user 40.6 s, sys: 6.72 s, total: 47.4 s\n",
      "Wall time: 49.5 s\n"
     ]
    }
   ],
   "source": [
    "%%time\n",
    "texts = []\n",
    "for f_path in f_paths:\n",
    "    xml = get_xml(f_path)\n",
    "    id = xml.get('id')\n",
    "    texts.append(id)"
   ]
  },
  {
   "cell_type": "code",
   "execution_count": 6,
   "metadata": {
    "Collapsed": "false"
   },
   "outputs": [
    {
     "name": "stdout",
     "output_type": "stream",
     "text": [
      "number of documents in the corpus: 1251\n"
     ]
    }
   ],
   "source": [
    "print(f\"number of documents in the corpus: {len(texts)}\")"
   ]
  },
  {
   "cell_type": "markdown",
   "metadata": {
    "Collapsed": "false",
    "toc-hr-collapsed": true
   },
   "source": [
    "## Speakers\n",
    "\n",
    "1. Store all speakers in the corpus.\n",
    "2. Store the total number of words each speaker has contributed to the corpus."
   ]
  },
  {
   "cell_type": "code",
   "execution_count": 7,
   "metadata": {
    "Collapsed": "false"
   },
   "outputs": [
    {
     "name": "stdout",
     "output_type": "stream",
     "text": [
      "CPU times: user 47 s, sys: 6.69 s, total: 53.7 s\n",
      "Wall time: 56.6 s\n"
     ]
    }
   ],
   "source": [
    "%%time\n",
    "speakers_words = defaultdict(int)\n",
    "for f_path in f_paths:\n",
    "    xml = get_xml(f_path)\n",
    "    for u in xml.iter('u'):\n",
    "        speaker = u.get('who')\n",
    "        n_words = len([w for w in u.iter('w')])\n",
    "        speakers_words[speaker] += n_words"
   ]
  },
  {
   "cell_type": "markdown",
   "metadata": {
    "Collapsed": "false"
   },
   "source": [
    "### Number of speakers"
   ]
  },
  {
   "cell_type": "code",
   "execution_count": 8,
   "metadata": {
    "Collapsed": "false"
   },
   "outputs": [
    {
     "name": "stdout",
     "output_type": "stream",
     "text": [
      "number of speakers: 671\n"
     ]
    }
   ],
   "source": [
    "print(f\"number of speakers: {len(speakers_words)}\")"
   ]
  },
  {
   "cell_type": "markdown",
   "metadata": {
    "Collapsed": "false"
   },
   "source": [
    "### Words per speaker"
   ]
  },
  {
   "cell_type": "code",
   "execution_count": 9,
   "metadata": {
    "Collapsed": "false"
   },
   "outputs": [],
   "source": [
    "df_speakers_words = pd.DataFrame(list(speakers_words.items()), columns=['speaker', 'n_words'])"
   ]
  },
  {
   "cell_type": "code",
   "execution_count": 10,
   "metadata": {
    "Collapsed": "false"
   },
   "outputs": [],
   "source": [
    "df_speakers_words.sort_values('speaker', ascending=True, inplace=True)"
   ]
  },
  {
   "cell_type": "code",
   "execution_count": 44,
   "metadata": {
    "Collapsed": "false"
   },
   "outputs": [
    {
     "data": {
      "text/html": [
       "<div>\n",
       "<style scoped>\n",
       "    .dataframe tbody tr th:only-of-type {\n",
       "        vertical-align: middle;\n",
       "    }\n",
       "\n",
       "    .dataframe tbody tr th {\n",
       "        vertical-align: top;\n",
       "    }\n",
       "\n",
       "    .dataframe thead th {\n",
       "        text-align: right;\n",
       "    }\n",
       "</style>\n",
       "<table border=\"1\" class=\"dataframe\">\n",
       "  <thead>\n",
       "    <tr style=\"text-align: right;\">\n",
       "      <th></th>\n",
       "      <th>speaker</th>\n",
       "      <th>n_words</th>\n",
       "    </tr>\n",
       "  </thead>\n",
       "  <tbody>\n",
       "    <tr>\n",
       "      <td>468</td>\n",
       "      <td>S0001</td>\n",
       "      <td>3000</td>\n",
       "    </tr>\n",
       "    <tr>\n",
       "      <td>459</td>\n",
       "      <td>S0002</td>\n",
       "      <td>8535</td>\n",
       "    </tr>\n",
       "    <tr>\n",
       "      <td>440</td>\n",
       "      <td>S0003</td>\n",
       "      <td>1893</td>\n",
       "    </tr>\n",
       "    <tr>\n",
       "      <td>312</td>\n",
       "      <td>S0004</td>\n",
       "      <td>3634</td>\n",
       "    </tr>\n",
       "    <tr>\n",
       "      <td>143</td>\n",
       "      <td>S0005</td>\n",
       "      <td>1449</td>\n",
       "    </tr>\n",
       "    <tr>\n",
       "      <td>...</td>\n",
       "      <td>...</td>\n",
       "      <td>...</td>\n",
       "    </tr>\n",
       "    <tr>\n",
       "      <td>219</td>\n",
       "      <td>S0691</td>\n",
       "      <td>2135</td>\n",
       "    </tr>\n",
       "    <tr>\n",
       "      <td>214</td>\n",
       "      <td>S0692</td>\n",
       "      <td>1105</td>\n",
       "    </tr>\n",
       "    <tr>\n",
       "      <td>26</td>\n",
       "      <td>UNKFEMALE</td>\n",
       "      <td>28108</td>\n",
       "    </tr>\n",
       "    <tr>\n",
       "      <td>32</td>\n",
       "      <td>UNKMALE</td>\n",
       "      <td>30316</td>\n",
       "    </tr>\n",
       "    <tr>\n",
       "      <td>5</td>\n",
       "      <td>UNKMULTI</td>\n",
       "      <td>1375</td>\n",
       "    </tr>\n",
       "  </tbody>\n",
       "</table>\n",
       "<p>671 rows × 2 columns</p>\n",
       "</div>"
      ],
      "text/plain": [
       "       speaker  n_words\n",
       "468      S0001     3000\n",
       "459      S0002     8535\n",
       "440      S0003     1893\n",
       "312      S0004     3634\n",
       "143      S0005     1449\n",
       "..         ...      ...\n",
       "219      S0691     2135\n",
       "214      S0692     1105\n",
       "26   UNKFEMALE    28108\n",
       "32     UNKMALE    30316\n",
       "5     UNKMULTI     1375\n",
       "\n",
       "[671 rows x 2 columns]"
      ]
     },
     "execution_count": 44,
     "metadata": {},
     "output_type": "execute_result"
    }
   ],
   "source": [
    "df_speakers_words"
   ]
  },
  {
   "cell_type": "markdown",
   "metadata": {
    "Collapsed": "false"
   },
   "source": [
    "### Write out"
   ]
  },
  {
   "cell_type": "code",
   "execution_count": 12,
   "metadata": {
    "Collapsed": "false"
   },
   "outputs": [],
   "source": [
    "with open('out/metadata/speakers_words.csv', 'w') as f_out:\n",
    "    df_speakers_words.to_csv(f_out, index=False)"
   ]
  },
  {
   "cell_type": "markdown",
   "metadata": {
    "Collapsed": "false"
   },
   "source": [
    "## Words"
   ]
  },
  {
   "cell_type": "code",
   "execution_count": 13,
   "metadata": {
    "Collapsed": "false"
   },
   "outputs": [
    {
     "name": "stdout",
     "output_type": "stream",
     "text": [
      "CPU times: user 44.5 s, sys: 6.42 s, total: 50.9 s\n",
      "Wall time: 53.8 s\n"
     ]
    }
   ],
   "source": [
    "%%time\n",
    "n_words = 0\n",
    "for f_path in f_paths:\n",
    "    xml = get_xml(f_path)\n",
    "    for w in xml.iter('w'):\n",
    "        n_words += 1"
   ]
  },
  {
   "cell_type": "code",
   "execution_count": 14,
   "metadata": {
    "Collapsed": "false"
   },
   "outputs": [
    {
     "name": "stdout",
     "output_type": "stream",
     "text": [
      "total number of words in the corpus: 11422615\n"
     ]
    }
   ],
   "source": [
    "print(f\"total number of words in the corpus: {n_words}\")"
   ]
  },
  {
   "cell_type": "markdown",
   "metadata": {
    "Collapsed": "false",
    "toc-hr-collapsed": false
   },
   "source": [
    "# Query for `that's ADJ`"
   ]
  },
  {
   "cell_type": "code",
   "execution_count": 15,
   "metadata": {
    "Collapsed": "false"
   },
   "outputs": [],
   "source": [
    "blacklist = ['to', 'timing', 'news',  'bullshit', 'awesome', 'enough']"
   ]
  },
  {
   "cell_type": "code",
   "execution_count": 16,
   "metadata": {
    "Collapsed": "false"
   },
   "outputs": [],
   "source": [
    "def get_thats_adj_start_disc(u):\n",
    "    query = \"that 's ADJ - start_disc\"\n",
    "    n_slots = 3\n",
    "    hits = []\n",
    "    words = [w for w in u.iter('w')]\n",
    "    for w in words:\n",
    "        # check first token\n",
    "        if w.text.lower() == 'that' and w.get('pos') == 'DD1':\n",
    "            # check sequence length to avoid crossing utterance boundaries\n",
    "            if words.index(w) + n_slots - 1 < len(words):\n",
    "                w2 = words[words.index(w) + 1]\n",
    "                w3 = words[words.index(w) + 2]\n",
    "                # check second token\n",
    "                if w2.text.lower() == \"'s\":\n",
    "                    # check third token\n",
    "                    if w3.get('pos') == \"JJ\":\n",
    "                        # store information about hits\n",
    "                        hit = {}\n",
    "                        hit['doc'] = xml.get('id')\n",
    "                        hit['utterance'] = u.get('n')\n",
    "                        hit['speaker'] = u.get('who')\n",
    "                        hit['query'] = query\n",
    "                        hit['result'] = ' '.join(\n",
    "                            [\n",
    "                                w.text,\n",
    "                                w2.text,\n",
    "                                w3.text,\n",
    "                            ]\n",
    "                        )\n",
    "                        hit['adj_text'] = w3.text\n",
    "                        hit['adj_semtag'] = w3.get('usas')\n",
    "                        # check whether pattern occurs at start of utterances or is only preceded by an interjection\n",
    "                        if words.index(w) == 0 or (words[0].get('pos') == 'UH' and words.index(w) == 1):\n",
    "                            # exclude hits that are followed by blacklist items\n",
    "                            if words.index(w) + n_slots < len(words):\n",
    "                                w4 = words[words.index(w) + n_slots]\n",
    "                                if w4.text.lower() not in blacklist:\n",
    "                                    hits.append(hit)\n",
    "                            else:\n",
    "                                hits.append(hit)\n",
    "    return hits    "
   ]
  },
  {
   "cell_type": "code",
   "execution_count": 17,
   "metadata": {
    "Collapsed": "false"
   },
   "outputs": [
    {
     "name": "stdout",
     "output_type": "stream",
     "text": [
      "CPU times: user 49.6 s, sys: 6.22 s, total: 55.8 s\n",
      "Wall time: 59.9 s\n"
     ]
    }
   ],
   "source": [
    "%%time\n",
    "hits = []\n",
    "for f_path in f_paths:\n",
    "    xml = get_xml(f_path)\n",
    "    for u in xml.iter('u'):\n",
    "        hits.extend(get_thats_adj_start_disc(u))"
   ]
  },
  {
   "cell_type": "code",
   "execution_count": 21,
   "metadata": {
    "Collapsed": "false"
   },
   "outputs": [
    {
     "name": "stdout",
     "output_type": "stream",
     "text": [
      "number of hits: 8027\n"
     ]
    }
   ],
   "source": [
    "print(f\"number of hits: {len(hits)}\")"
   ]
  },
  {
   "cell_type": "code",
   "execution_count": 22,
   "metadata": {
    "Collapsed": "false"
   },
   "outputs": [
    {
     "name": "stdout",
     "output_type": "stream",
     "text": [
      "random selection of 10 hits:\n",
      "\n",
      "that 's great\n",
      "that 's true\n",
      "that 's right\n",
      "that 's nice\n",
      "that 's right\n",
      "that 's fatal\n",
      "that 's good\n",
      "that 's fine\n",
      "that 's nice\n",
      "that 's awful\n"
     ]
    }
   ],
   "source": [
    "print('random selection of 10 hits:\\n')\n",
    "for hit in random.choices(hits, k=10):\n",
    "    print(hit['result'])"
   ]
  },
  {
   "cell_type": "code",
   "execution_count": 23,
   "metadata": {
    "Collapsed": "false"
   },
   "outputs": [
    {
     "data": {
      "text/html": [
       "<div>\n",
       "<style scoped>\n",
       "    .dataframe tbody tr th:only-of-type {\n",
       "        vertical-align: middle;\n",
       "    }\n",
       "\n",
       "    .dataframe tbody tr th {\n",
       "        vertical-align: top;\n",
       "    }\n",
       "\n",
       "    .dataframe thead th {\n",
       "        text-align: right;\n",
       "    }\n",
       "</style>\n",
       "<table border=\"1\" class=\"dataframe\">\n",
       "  <thead>\n",
       "    <tr style=\"text-align: right;\">\n",
       "      <th></th>\n",
       "      <th>doc</th>\n",
       "      <th>utterance</th>\n",
       "      <th>speaker</th>\n",
       "      <th>query</th>\n",
       "      <th>result</th>\n",
       "      <th>adj_text</th>\n",
       "      <th>adj_semtag</th>\n",
       "    </tr>\n",
       "  </thead>\n",
       "  <tbody>\n",
       "    <tr>\n",
       "      <td>0</td>\n",
       "      <td>SN64</td>\n",
       "      <td>521</td>\n",
       "      <td>S0588</td>\n",
       "      <td>that 's ADJ - start_disc</td>\n",
       "      <td>that 's good</td>\n",
       "      <td>good</td>\n",
       "      <td>A5:1</td>\n",
       "    </tr>\n",
       "    <tr>\n",
       "      <td>1</td>\n",
       "      <td>SN64</td>\n",
       "      <td>577</td>\n",
       "      <td>S0588</td>\n",
       "      <td>that 's ADJ - start_disc</td>\n",
       "      <td>that 's strange</td>\n",
       "      <td>strange</td>\n",
       "      <td>A6:2</td>\n",
       "    </tr>\n",
       "    <tr>\n",
       "      <td>2</td>\n",
       "      <td>SN64</td>\n",
       "      <td>834</td>\n",
       "      <td>S0588</td>\n",
       "      <td>that 's ADJ - start_disc</td>\n",
       "      <td>that 's ridiculous</td>\n",
       "      <td>ridiculous</td>\n",
       "      <td>S1:2:6</td>\n",
       "    </tr>\n",
       "    <tr>\n",
       "      <td>3</td>\n",
       "      <td>SN64</td>\n",
       "      <td>854</td>\n",
       "      <td>S0588</td>\n",
       "      <td>that 's ADJ - start_disc</td>\n",
       "      <td>that 's ridiculous</td>\n",
       "      <td>ridiculous</td>\n",
       "      <td>S1:2:6</td>\n",
       "    </tr>\n",
       "    <tr>\n",
       "      <td>4</td>\n",
       "      <td>SN64</td>\n",
       "      <td>980</td>\n",
       "      <td>S0588</td>\n",
       "      <td>that 's ADJ - start_disc</td>\n",
       "      <td>that 's atrocious</td>\n",
       "      <td>atrocious</td>\n",
       "      <td>A5:1</td>\n",
       "    </tr>\n",
       "    <tr>\n",
       "      <td>...</td>\n",
       "      <td>...</td>\n",
       "      <td>...</td>\n",
       "      <td>...</td>\n",
       "      <td>...</td>\n",
       "      <td>...</td>\n",
       "      <td>...</td>\n",
       "      <td>...</td>\n",
       "    </tr>\n",
       "    <tr>\n",
       "      <td>8022</td>\n",
       "      <td>S37K</td>\n",
       "      <td>669</td>\n",
       "      <td>S0058</td>\n",
       "      <td>that 's ADJ - start_disc</td>\n",
       "      <td>that 's alright</td>\n",
       "      <td>alright</td>\n",
       "      <td>A5:1</td>\n",
       "    </tr>\n",
       "    <tr>\n",
       "      <td>8023</td>\n",
       "      <td>S37K</td>\n",
       "      <td>740</td>\n",
       "      <td>S0058</td>\n",
       "      <td>that 's ADJ - start_disc</td>\n",
       "      <td>that 's interesting</td>\n",
       "      <td>interesting</td>\n",
       "      <td>X5:2</td>\n",
       "    </tr>\n",
       "    <tr>\n",
       "      <td>8024</td>\n",
       "      <td>S37K</td>\n",
       "      <td>1555</td>\n",
       "      <td>S0058</td>\n",
       "      <td>that 's ADJ - start_disc</td>\n",
       "      <td>that 's true</td>\n",
       "      <td>true</td>\n",
       "      <td>A5:2</td>\n",
       "    </tr>\n",
       "    <tr>\n",
       "      <td>8025</td>\n",
       "      <td>SMHY</td>\n",
       "      <td>139</td>\n",
       "      <td>S0037</td>\n",
       "      <td>that 's ADJ - start_disc</td>\n",
       "      <td>that 's true</td>\n",
       "      <td>true</td>\n",
       "      <td>A5:2</td>\n",
       "    </tr>\n",
       "    <tr>\n",
       "      <td>8026</td>\n",
       "      <td>SMHY</td>\n",
       "      <td>190</td>\n",
       "      <td>S0115</td>\n",
       "      <td>that 's ADJ - start_disc</td>\n",
       "      <td>that 's Well</td>\n",
       "      <td>Well</td>\n",
       "      <td>B2</td>\n",
       "    </tr>\n",
       "  </tbody>\n",
       "</table>\n",
       "<p>8027 rows × 7 columns</p>\n",
       "</div>"
      ],
      "text/plain": [
       "       doc utterance speaker                     query               result  \\\n",
       "0     SN64       521   S0588  that 's ADJ - start_disc         that 's good   \n",
       "1     SN64       577   S0588  that 's ADJ - start_disc      that 's strange   \n",
       "2     SN64       834   S0588  that 's ADJ - start_disc   that 's ridiculous   \n",
       "3     SN64       854   S0588  that 's ADJ - start_disc   that 's ridiculous   \n",
       "4     SN64       980   S0588  that 's ADJ - start_disc    that 's atrocious   \n",
       "...    ...       ...     ...                       ...                  ...   \n",
       "8022  S37K       669   S0058  that 's ADJ - start_disc      that 's alright   \n",
       "8023  S37K       740   S0058  that 's ADJ - start_disc  that 's interesting   \n",
       "8024  S37K      1555   S0058  that 's ADJ - start_disc         that 's true   \n",
       "8025  SMHY       139   S0037  that 's ADJ - start_disc         that 's true   \n",
       "8026  SMHY       190   S0115  that 's ADJ - start_disc         that 's Well   \n",
       "\n",
       "         adj_text adj_semtag  \n",
       "0            good       A5:1  \n",
       "1         strange       A6:2  \n",
       "2      ridiculous     S1:2:6  \n",
       "3      ridiculous     S1:2:6  \n",
       "4       atrocious       A5:1  \n",
       "...           ...        ...  \n",
       "8022      alright       A5:1  \n",
       "8023  interesting       X5:2  \n",
       "8024         true       A5:2  \n",
       "8025         true       A5:2  \n",
       "8026         Well         B2  \n",
       "\n",
       "[8027 rows x 7 columns]"
      ]
     },
     "execution_count": 23,
     "metadata": {},
     "output_type": "execute_result"
    }
   ],
   "source": [
    "df_hits = pd.DataFrame(hits)\n",
    "df_hits"
   ]
  },
  {
   "cell_type": "markdown",
   "metadata": {
    "Collapsed": "false"
   },
   "source": [
    "# Semantic category descriptions\n",
    "\n",
    "BNC2014 data are tagged using the USAS semantic tagger. Information for each hit were stored in `df_hits` and are now merged with semantic category descriptions from the USAS tagset which was download from <http://ucrel.lancs.ac.uk/usas/>."
   ]
  },
  {
   "cell_type": "code",
   "execution_count": 24,
   "metadata": {
    "Collapsed": "false"
   },
   "outputs": [],
   "source": [
    "semtags = pd.read_csv(\n",
    "    'semtags.csv', \n",
    "    sep='\\t',\n",
    "    names=['tag', 'desc']\n",
    ")"
   ]
  },
  {
   "cell_type": "code",
   "execution_count": 25,
   "metadata": {
    "Collapsed": "false"
   },
   "outputs": [],
   "source": [
    "semtags.tag = semtags.tag.str.replace('.', ':')"
   ]
  },
  {
   "cell_type": "code",
   "execution_count": 26,
   "metadata": {
    "Collapsed": "false"
   },
   "outputs": [],
   "source": [
    "df_hits = pd.merge(df_hits, semtags, left_on='adj_semtag', right_on='tag', how='left')"
   ]
  },
  {
   "cell_type": "code",
   "execution_count": 27,
   "metadata": {
    "Collapsed": "false"
   },
   "outputs": [],
   "source": [
    "df_hits.drop('tag', axis=1, inplace=True)"
   ]
  },
  {
   "cell_type": "code",
   "execution_count": 28,
   "metadata": {
    "Collapsed": "false"
   },
   "outputs": [],
   "source": [
    "df_hits.rename(columns={'desc': 'adj_semdesc'}, inplace=True)"
   ]
  },
  {
   "cell_type": "code",
   "execution_count": 29,
   "metadata": {
    "Collapsed": "false"
   },
   "outputs": [
    {
     "data": {
      "text/html": [
       "<div>\n",
       "<style scoped>\n",
       "    .dataframe tbody tr th:only-of-type {\n",
       "        vertical-align: middle;\n",
       "    }\n",
       "\n",
       "    .dataframe tbody tr th {\n",
       "        vertical-align: top;\n",
       "    }\n",
       "\n",
       "    .dataframe thead th {\n",
       "        text-align: right;\n",
       "    }\n",
       "</style>\n",
       "<table border=\"1\" class=\"dataframe\">\n",
       "  <thead>\n",
       "    <tr style=\"text-align: right;\">\n",
       "      <th></th>\n",
       "      <th>doc</th>\n",
       "      <th>utterance</th>\n",
       "      <th>speaker</th>\n",
       "      <th>query</th>\n",
       "      <th>result</th>\n",
       "      <th>adj_text</th>\n",
       "      <th>adj_semtag</th>\n",
       "      <th>adj_semdesc</th>\n",
       "    </tr>\n",
       "  </thead>\n",
       "  <tbody>\n",
       "    <tr>\n",
       "      <td>0</td>\n",
       "      <td>SN64</td>\n",
       "      <td>521</td>\n",
       "      <td>S0588</td>\n",
       "      <td>that 's ADJ - start_disc</td>\n",
       "      <td>that 's good</td>\n",
       "      <td>good</td>\n",
       "      <td>A5:1</td>\n",
       "      <td>Evaluation:- Good/bad</td>\n",
       "    </tr>\n",
       "    <tr>\n",
       "      <td>1</td>\n",
       "      <td>SN64</td>\n",
       "      <td>577</td>\n",
       "      <td>S0588</td>\n",
       "      <td>that 's ADJ - start_disc</td>\n",
       "      <td>that 's strange</td>\n",
       "      <td>strange</td>\n",
       "      <td>A6:2</td>\n",
       "      <td>Comparing:- Usual/unusual</td>\n",
       "    </tr>\n",
       "    <tr>\n",
       "      <td>2</td>\n",
       "      <td>SN64</td>\n",
       "      <td>834</td>\n",
       "      <td>S0588</td>\n",
       "      <td>that 's ADJ - start_disc</td>\n",
       "      <td>that 's ridiculous</td>\n",
       "      <td>ridiculous</td>\n",
       "      <td>S1:2:6</td>\n",
       "      <td>Sensible</td>\n",
       "    </tr>\n",
       "    <tr>\n",
       "      <td>3</td>\n",
       "      <td>SN64</td>\n",
       "      <td>854</td>\n",
       "      <td>S0588</td>\n",
       "      <td>that 's ADJ - start_disc</td>\n",
       "      <td>that 's ridiculous</td>\n",
       "      <td>ridiculous</td>\n",
       "      <td>S1:2:6</td>\n",
       "      <td>Sensible</td>\n",
       "    </tr>\n",
       "    <tr>\n",
       "      <td>4</td>\n",
       "      <td>SN64</td>\n",
       "      <td>980</td>\n",
       "      <td>S0588</td>\n",
       "      <td>that 's ADJ - start_disc</td>\n",
       "      <td>that 's atrocious</td>\n",
       "      <td>atrocious</td>\n",
       "      <td>A5:1</td>\n",
       "      <td>Evaluation:- Good/bad</td>\n",
       "    </tr>\n",
       "    <tr>\n",
       "      <td>...</td>\n",
       "      <td>...</td>\n",
       "      <td>...</td>\n",
       "      <td>...</td>\n",
       "      <td>...</td>\n",
       "      <td>...</td>\n",
       "      <td>...</td>\n",
       "      <td>...</td>\n",
       "      <td>...</td>\n",
       "    </tr>\n",
       "    <tr>\n",
       "      <td>8022</td>\n",
       "      <td>S37K</td>\n",
       "      <td>669</td>\n",
       "      <td>S0058</td>\n",
       "      <td>that 's ADJ - start_disc</td>\n",
       "      <td>that 's alright</td>\n",
       "      <td>alright</td>\n",
       "      <td>A5:1</td>\n",
       "      <td>Evaluation:- Good/bad</td>\n",
       "    </tr>\n",
       "    <tr>\n",
       "      <td>8023</td>\n",
       "      <td>S37K</td>\n",
       "      <td>740</td>\n",
       "      <td>S0058</td>\n",
       "      <td>that 's ADJ - start_disc</td>\n",
       "      <td>that 's interesting</td>\n",
       "      <td>interesting</td>\n",
       "      <td>X5:2</td>\n",
       "      <td>Interest/boredom/excited/energetic</td>\n",
       "    </tr>\n",
       "    <tr>\n",
       "      <td>8024</td>\n",
       "      <td>S37K</td>\n",
       "      <td>1555</td>\n",
       "      <td>S0058</td>\n",
       "      <td>that 's ADJ - start_disc</td>\n",
       "      <td>that 's true</td>\n",
       "      <td>true</td>\n",
       "      <td>A5:2</td>\n",
       "      <td>Evaluation:- True/false</td>\n",
       "    </tr>\n",
       "    <tr>\n",
       "      <td>8025</td>\n",
       "      <td>SMHY</td>\n",
       "      <td>139</td>\n",
       "      <td>S0037</td>\n",
       "      <td>that 's ADJ - start_disc</td>\n",
       "      <td>that 's true</td>\n",
       "      <td>true</td>\n",
       "      <td>A5:2</td>\n",
       "      <td>Evaluation:- True/false</td>\n",
       "    </tr>\n",
       "    <tr>\n",
       "      <td>8026</td>\n",
       "      <td>SMHY</td>\n",
       "      <td>190</td>\n",
       "      <td>S0115</td>\n",
       "      <td>that 's ADJ - start_disc</td>\n",
       "      <td>that 's Well</td>\n",
       "      <td>Well</td>\n",
       "      <td>B2</td>\n",
       "      <td>Health and disease</td>\n",
       "    </tr>\n",
       "  </tbody>\n",
       "</table>\n",
       "<p>8027 rows × 8 columns</p>\n",
       "</div>"
      ],
      "text/plain": [
       "       doc utterance speaker                     query               result  \\\n",
       "0     SN64       521   S0588  that 's ADJ - start_disc         that 's good   \n",
       "1     SN64       577   S0588  that 's ADJ - start_disc      that 's strange   \n",
       "2     SN64       834   S0588  that 's ADJ - start_disc   that 's ridiculous   \n",
       "3     SN64       854   S0588  that 's ADJ - start_disc   that 's ridiculous   \n",
       "4     SN64       980   S0588  that 's ADJ - start_disc    that 's atrocious   \n",
       "...    ...       ...     ...                       ...                  ...   \n",
       "8022  S37K       669   S0058  that 's ADJ - start_disc      that 's alright   \n",
       "8023  S37K       740   S0058  that 's ADJ - start_disc  that 's interesting   \n",
       "8024  S37K      1555   S0058  that 's ADJ - start_disc         that 's true   \n",
       "8025  SMHY       139   S0037  that 's ADJ - start_disc         that 's true   \n",
       "8026  SMHY       190   S0115  that 's ADJ - start_disc         that 's Well   \n",
       "\n",
       "         adj_text adj_semtag                         adj_semdesc  \n",
       "0            good       A5:1               Evaluation:- Good/bad  \n",
       "1         strange       A6:2          Comparing:- Usual/unusual   \n",
       "2      ridiculous     S1:2:6                            Sensible  \n",
       "3      ridiculous     S1:2:6                            Sensible  \n",
       "4       atrocious       A5:1               Evaluation:- Good/bad  \n",
       "...           ...        ...                                 ...  \n",
       "8022      alright       A5:1               Evaluation:- Good/bad  \n",
       "8023  interesting       X5:2  Interest/boredom/excited/energetic  \n",
       "8024         true       A5:2             Evaluation:- True/false  \n",
       "8025         true       A5:2             Evaluation:- True/false  \n",
       "8026         Well         B2                  Health and disease  \n",
       "\n",
       "[8027 rows x 8 columns]"
      ]
     },
     "execution_count": 29,
     "metadata": {},
     "output_type": "execute_result"
    }
   ],
   "source": [
    "df_hits"
   ]
  },
  {
   "cell_type": "code",
   "execution_count": 30,
   "metadata": {
    "Collapsed": "false"
   },
   "outputs": [],
   "source": [
    "query = df_hits.loc[0, 'query']\n",
    "f_name_out = query.replace(\" \", \"-\")\n",
    "dir_hits_out = 'hits/'"
   ]
  },
  {
   "cell_type": "code",
   "execution_count": 31,
   "metadata": {
    "Collapsed": "false"
   },
   "outputs": [],
   "source": [
    "with open(f\"out/{dir_hits_out}{f_name_out}.csv\", 'w') as f_out:\n",
    "    df_hits.to_csv(f_out, index=False)"
   ]
  },
  {
   "cell_type": "markdown",
   "metadata": {
    "Collapsed": "false",
    "toc-hr-collapsed": true
   },
   "source": [
    "# Metadata"
   ]
  },
  {
   "cell_type": "markdown",
   "metadata": {
    "Collapsed": "false"
   },
   "source": [
    "## Speakers"
   ]
  },
  {
   "cell_type": "code",
   "execution_count": 32,
   "metadata": {
    "Collapsed": "false"
   },
   "outputs": [],
   "source": [
    "head_speakers = pd.read_csv(\n",
    "    f\"{dir_meta}metadata-fields-speaker.txt\",\n",
    "    delimiter='\\t',\n",
    "    skiprows=1,\n",
    "    index_col=0\n",
    ")"
   ]
  },
  {
   "cell_type": "code",
   "execution_count": 33,
   "metadata": {
    "Collapsed": "false"
   },
   "outputs": [],
   "source": [
    "speakers = pd.read_csv(\n",
    "    f\"{dir_meta}bnc2014spoken-speakerdata.tsv\", \n",
    "    delimiter='\\t', \n",
    "    names=head_speakers['XML tag'],\n",
    "    index_col=0\n",
    ")"
   ]
  },
  {
   "cell_type": "code",
   "execution_count": 34,
   "metadata": {
    "Collapsed": "false"
   },
   "outputs": [
    {
     "data": {
      "text/html": [
       "<div>\n",
       "<style scoped>\n",
       "    .dataframe tbody tr th:only-of-type {\n",
       "        vertical-align: middle;\n",
       "    }\n",
       "\n",
       "    .dataframe tbody tr th {\n",
       "        vertical-align: top;\n",
       "    }\n",
       "\n",
       "    .dataframe thead th {\n",
       "        text-align: right;\n",
       "    }\n",
       "</style>\n",
       "<table border=\"1\" class=\"dataframe\">\n",
       "  <thead>\n",
       "    <tr style=\"text-align: right;\">\n",
       "      <th></th>\n",
       "      <th>exactage</th>\n",
       "      <th>age1994</th>\n",
       "      <th>agerange</th>\n",
       "      <th>gender</th>\n",
       "      <th>nat</th>\n",
       "      <th>birthplace</th>\n",
       "      <th>birthcountry</th>\n",
       "      <th>l1</th>\n",
       "      <th>lingorig</th>\n",
       "      <th>dialect_rep</th>\n",
       "      <th>...</th>\n",
       "      <th>dialect_l2</th>\n",
       "      <th>dialect_l3</th>\n",
       "      <th>dialect_l4</th>\n",
       "      <th>edqual</th>\n",
       "      <th>occupation</th>\n",
       "      <th>socgrade</th>\n",
       "      <th>nssec</th>\n",
       "      <th>l2</th>\n",
       "      <th>fls</th>\n",
       "      <th>in_core</th>\n",
       "    </tr>\n",
       "  </thead>\n",
       "  <tbody>\n",
       "    <tr>\n",
       "      <td>S0001</td>\n",
       "      <td>32</td>\n",
       "      <td>25_34</td>\n",
       "      <td>30_39</td>\n",
       "      <td>F</td>\n",
       "      <td>British</td>\n",
       "      <td>Wordsley, West Midlands</td>\n",
       "      <td>England</td>\n",
       "      <td>English</td>\n",
       "      <td>England</td>\n",
       "      <td>None indicated</td>\n",
       "      <td>...</td>\n",
       "      <td>unspecified</td>\n",
       "      <td>unspecified</td>\n",
       "      <td>unspecified</td>\n",
       "      <td>5_postgrad</td>\n",
       "      <td>University researcher</td>\n",
       "      <td>A</td>\n",
       "      <td>1_2</td>\n",
       "      <td>NaN</td>\n",
       "      <td>NaN</td>\n",
       "      <td>n</td>\n",
       "    </tr>\n",
       "    <tr>\n",
       "      <td>S0002</td>\n",
       "      <td>NaN</td>\n",
       "      <td>Unknown</td>\n",
       "      <td>19_29</td>\n",
       "      <td>F</td>\n",
       "      <td>British</td>\n",
       "      <td>Birmingham</td>\n",
       "      <td>England</td>\n",
       "      <td>English</td>\n",
       "      <td>England</td>\n",
       "      <td>Midlands</td>\n",
       "      <td>...</td>\n",
       "      <td>england</td>\n",
       "      <td>midlands</td>\n",
       "      <td>unspecified</td>\n",
       "      <td>5_postgrad</td>\n",
       "      <td>Teacher</td>\n",
       "      <td>B</td>\n",
       "      <td>2</td>\n",
       "      <td>NaN</td>\n",
       "      <td>Japanese -- Intermediate</td>\n",
       "      <td>n</td>\n",
       "    </tr>\n",
       "    <tr>\n",
       "      <td>S0003</td>\n",
       "      <td>NaN</td>\n",
       "      <td>Unknown</td>\n",
       "      <td>19_29</td>\n",
       "      <td>F</td>\n",
       "      <td>British</td>\n",
       "      <td>Royal Leamington Spa, Warwickshire</td>\n",
       "      <td>England</td>\n",
       "      <td>English</td>\n",
       "      <td>England</td>\n",
       "      <td>Northern</td>\n",
       "      <td>...</td>\n",
       "      <td>england</td>\n",
       "      <td>north</td>\n",
       "      <td>unspecified</td>\n",
       "      <td>4_graduate</td>\n",
       "      <td>Student</td>\n",
       "      <td>E</td>\n",
       "      <td>uncat</td>\n",
       "      <td>NaN</td>\n",
       "      <td>NaN</td>\n",
       "      <td>n</td>\n",
       "    </tr>\n",
       "    <tr>\n",
       "      <td>S0004</td>\n",
       "      <td>NaN</td>\n",
       "      <td>Unknown</td>\n",
       "      <td>30_39</td>\n",
       "      <td>M</td>\n",
       "      <td>British</td>\n",
       "      <td>NaN</td>\n",
       "      <td>Germany</td>\n",
       "      <td>English</td>\n",
       "      <td>England</td>\n",
       "      <td>Northern</td>\n",
       "      <td>...</td>\n",
       "      <td>england</td>\n",
       "      <td>north</td>\n",
       "      <td>unspecified</td>\n",
       "      <td>5_postgrad</td>\n",
       "      <td>Engineer</td>\n",
       "      <td>C2</td>\n",
       "      <td>5</td>\n",
       "      <td>NaN</td>\n",
       "      <td>Spanish -- Beginner</td>\n",
       "      <td>n</td>\n",
       "    </tr>\n",
       "    <tr>\n",
       "      <td>S0005</td>\n",
       "      <td>NaN</td>\n",
       "      <td>60plus</td>\n",
       "      <td>80_89</td>\n",
       "      <td>F</td>\n",
       "      <td>British</td>\n",
       "      <td>Birmingham</td>\n",
       "      <td>England</td>\n",
       "      <td>English</td>\n",
       "      <td>England</td>\n",
       "      <td>Midlands</td>\n",
       "      <td>...</td>\n",
       "      <td>england</td>\n",
       "      <td>midlands</td>\n",
       "      <td>unspecified</td>\n",
       "      <td>2_secondary</td>\n",
       "      <td>Insurance Broker (retired)</td>\n",
       "      <td>E</td>\n",
       "      <td>8</td>\n",
       "      <td>NaN</td>\n",
       "      <td>French -- Beginner</td>\n",
       "      <td>n</td>\n",
       "    </tr>\n",
       "    <tr>\n",
       "      <td>...</td>\n",
       "      <td>...</td>\n",
       "      <td>...</td>\n",
       "      <td>...</td>\n",
       "      <td>...</td>\n",
       "      <td>...</td>\n",
       "      <td>...</td>\n",
       "      <td>...</td>\n",
       "      <td>...</td>\n",
       "      <td>...</td>\n",
       "      <td>...</td>\n",
       "      <td>...</td>\n",
       "      <td>...</td>\n",
       "      <td>...</td>\n",
       "      <td>...</td>\n",
       "      <td>...</td>\n",
       "      <td>...</td>\n",
       "      <td>...</td>\n",
       "      <td>...</td>\n",
       "      <td>...</td>\n",
       "      <td>...</td>\n",
       "      <td>...</td>\n",
       "    </tr>\n",
       "    <tr>\n",
       "      <td>S0691</td>\n",
       "      <td>45</td>\n",
       "      <td>45_59</td>\n",
       "      <td>40_49</td>\n",
       "      <td>F</td>\n",
       "      <td>British</td>\n",
       "      <td>Barrow-In-Furness</td>\n",
       "      <td>UK</td>\n",
       "      <td>English</td>\n",
       "      <td>England</td>\n",
       "      <td>Northern/ Cumbrian</td>\n",
       "      <td>...</td>\n",
       "      <td>england</td>\n",
       "      <td>north</td>\n",
       "      <td>unspecified</td>\n",
       "      <td>3_sixthform</td>\n",
       "      <td>dental nurse (trainee)</td>\n",
       "      <td>D</td>\n",
       "      <td>6</td>\n",
       "      <td>NaN</td>\n",
       "      <td>NaN</td>\n",
       "      <td>y</td>\n",
       "    </tr>\n",
       "    <tr>\n",
       "      <td>S0692</td>\n",
       "      <td>22</td>\n",
       "      <td>15_24</td>\n",
       "      <td>19_29</td>\n",
       "      <td>M</td>\n",
       "      <td>British</td>\n",
       "      <td>Barrow-in-Furness</td>\n",
       "      <td>England</td>\n",
       "      <td>English</td>\n",
       "      <td>England</td>\n",
       "      <td>Northern</td>\n",
       "      <td>...</td>\n",
       "      <td>england</td>\n",
       "      <td>north</td>\n",
       "      <td>unspecified</td>\n",
       "      <td>3_sixthform</td>\n",
       "      <td>Sales Assistant (Part time)</td>\n",
       "      <td>D</td>\n",
       "      <td>6</td>\n",
       "      <td>NaN</td>\n",
       "      <td>NaN</td>\n",
       "      <td>n</td>\n",
       "    </tr>\n",
       "    <tr>\n",
       "      <td>UNKFEMALE</td>\n",
       "      <td>NaN</td>\n",
       "      <td>Unknown</td>\n",
       "      <td>Unknown</td>\n",
       "      <td>F</td>\n",
       "      <td>NaN</td>\n",
       "      <td>NaN</td>\n",
       "      <td>NaN</td>\n",
       "      <td>NaN</td>\n",
       "      <td>NaN</td>\n",
       "      <td>None indicated</td>\n",
       "      <td>...</td>\n",
       "      <td>unspecified</td>\n",
       "      <td>unspecified</td>\n",
       "      <td>unspecified</td>\n",
       "      <td>9_unknown</td>\n",
       "      <td>NaN</td>\n",
       "      <td>unknown</td>\n",
       "      <td>unknown</td>\n",
       "      <td>NaN</td>\n",
       "      <td>NaN</td>\n",
       "      <td>n</td>\n",
       "    </tr>\n",
       "    <tr>\n",
       "      <td>UNKMALE</td>\n",
       "      <td>NaN</td>\n",
       "      <td>Unknown</td>\n",
       "      <td>Unknown</td>\n",
       "      <td>M</td>\n",
       "      <td>NaN</td>\n",
       "      <td>NaN</td>\n",
       "      <td>NaN</td>\n",
       "      <td>NaN</td>\n",
       "      <td>NaN</td>\n",
       "      <td>None indicated</td>\n",
       "      <td>...</td>\n",
       "      <td>unspecified</td>\n",
       "      <td>unspecified</td>\n",
       "      <td>unspecified</td>\n",
       "      <td>9_unknown</td>\n",
       "      <td>NaN</td>\n",
       "      <td>unknown</td>\n",
       "      <td>unknown</td>\n",
       "      <td>NaN</td>\n",
       "      <td>NaN</td>\n",
       "      <td>n</td>\n",
       "    </tr>\n",
       "    <tr>\n",
       "      <td>UNKMULTI</td>\n",
       "      <td>NaN</td>\n",
       "      <td>Unknown</td>\n",
       "      <td>Unknown</td>\n",
       "      <td>X</td>\n",
       "      <td>NaN</td>\n",
       "      <td>NaN</td>\n",
       "      <td>NaN</td>\n",
       "      <td>NaN</td>\n",
       "      <td>NaN</td>\n",
       "      <td>None indicated</td>\n",
       "      <td>...</td>\n",
       "      <td>unspecified</td>\n",
       "      <td>unspecified</td>\n",
       "      <td>unspecified</td>\n",
       "      <td>9_unknown</td>\n",
       "      <td>NaN</td>\n",
       "      <td>unknown</td>\n",
       "      <td>unknown</td>\n",
       "      <td>NaN</td>\n",
       "      <td>NaN</td>\n",
       "      <td>n</td>\n",
       "    </tr>\n",
       "  </tbody>\n",
       "</table>\n",
       "<p>671 rows × 24 columns</p>\n",
       "</div>"
      ],
      "text/plain": [
       "          exactage  age1994 agerange gender      nat  \\\n",
       "S0001           32    25_34    30_39      F  British   \n",
       "S0002          NaN  Unknown    19_29      F  British   \n",
       "S0003          NaN  Unknown    19_29      F  British   \n",
       "S0004          NaN  Unknown    30_39      M  British   \n",
       "S0005          NaN   60plus    80_89      F  British   \n",
       "...            ...      ...      ...    ...      ...   \n",
       "S0691           45    45_59    40_49      F  British   \n",
       "S0692           22    15_24    19_29      M  British   \n",
       "UNKFEMALE      NaN  Unknown  Unknown      F      NaN   \n",
       "UNKMALE        NaN  Unknown  Unknown      M      NaN   \n",
       "UNKMULTI       NaN  Unknown  Unknown      X      NaN   \n",
       "\n",
       "                                   birthplace birthcountry       l1 lingorig  \\\n",
       "S0001                 Wordsley, West Midlands      England  English  England   \n",
       "S0002                              Birmingham      England  English  England   \n",
       "S0003      Royal Leamington Spa, Warwickshire      England  English  England   \n",
       "S0004                                     NaN      Germany  English  England   \n",
       "S0005                              Birmingham      England  English  England   \n",
       "...                                       ...          ...      ...      ...   \n",
       "S0691                       Barrow-In-Furness           UK  English  England   \n",
       "S0692                       Barrow-in-Furness      England  English  England   \n",
       "UNKFEMALE                                 NaN          NaN      NaN      NaN   \n",
       "UNKMALE                                   NaN          NaN      NaN      NaN   \n",
       "UNKMULTI                                  NaN          NaN      NaN      NaN   \n",
       "\n",
       "                  dialect_rep  ...   dialect_l2   dialect_l3   dialect_l4  \\\n",
       "S0001          None indicated  ...  unspecified  unspecified  unspecified   \n",
       "S0002                Midlands  ...      england     midlands  unspecified   \n",
       "S0003                Northern  ...      england        north  unspecified   \n",
       "S0004                Northern  ...      england        north  unspecified   \n",
       "S0005                Midlands  ...      england     midlands  unspecified   \n",
       "...                       ...  ...          ...          ...          ...   \n",
       "S0691      Northern/ Cumbrian  ...      england        north  unspecified   \n",
       "S0692                Northern  ...      england        north  unspecified   \n",
       "UNKFEMALE      None indicated  ...  unspecified  unspecified  unspecified   \n",
       "UNKMALE        None indicated  ...  unspecified  unspecified  unspecified   \n",
       "UNKMULTI       None indicated  ...  unspecified  unspecified  unspecified   \n",
       "\n",
       "                edqual                   occupation socgrade    nssec   l2  \\\n",
       "S0001       5_postgrad        University researcher        A      1_2  NaN   \n",
       "S0002       5_postgrad                      Teacher        B        2  NaN   \n",
       "S0003       4_graduate                      Student        E    uncat  NaN   \n",
       "S0004       5_postgrad                     Engineer       C2        5  NaN   \n",
       "S0005      2_secondary   Insurance Broker (retired)        E        8  NaN   \n",
       "...                ...                          ...      ...      ...  ...   \n",
       "S0691      3_sixthform       dental nurse (trainee)        D        6  NaN   \n",
       "S0692      3_sixthform  Sales Assistant (Part time)        D        6  NaN   \n",
       "UNKFEMALE    9_unknown                          NaN  unknown  unknown  NaN   \n",
       "UNKMALE      9_unknown                          NaN  unknown  unknown  NaN   \n",
       "UNKMULTI     9_unknown                          NaN  unknown  unknown  NaN   \n",
       "\n",
       "                                fls in_core  \n",
       "S0001                           NaN       n  \n",
       "S0002      Japanese -- Intermediate       n  \n",
       "S0003                           NaN       n  \n",
       "S0004           Spanish -- Beginner       n  \n",
       "S0005            French -- Beginner       n  \n",
       "...                             ...     ...  \n",
       "S0691                           NaN       y  \n",
       "S0692                           NaN       n  \n",
       "UNKFEMALE                       NaN       n  \n",
       "UNKMALE                         NaN       n  \n",
       "UNKMULTI                        NaN       n  \n",
       "\n",
       "[671 rows x 24 columns]"
      ]
     },
     "execution_count": 34,
     "metadata": {},
     "output_type": "execute_result"
    }
   ],
   "source": [
    "speakers"
   ]
  },
  {
   "cell_type": "markdown",
   "metadata": {
    "Collapsed": "false"
   },
   "source": [
    "## Texts"
   ]
  },
  {
   "cell_type": "code",
   "execution_count": 35,
   "metadata": {
    "Collapsed": "false"
   },
   "outputs": [],
   "source": [
    "head_texts = pd.read_csv(\n",
    "    f\"{dir_meta}metadata-fields-text.txt\",\n",
    "    delimiter='\\t',\n",
    "    skiprows=1,\n",
    "    index_col=0\n",
    ")"
   ]
  },
  {
   "cell_type": "code",
   "execution_count": 36,
   "metadata": {
    "Collapsed": "false"
   },
   "outputs": [],
   "source": [
    "texts = pd.read_csv(\n",
    "    f\"{dir_meta}bnc2014spoken-textdata.tsv\", \n",
    "    delimiter='\\t', \n",
    "    names=head_texts['XML tag'],\n",
    "    index_col=0\n",
    ")"
   ]
  },
  {
   "cell_type": "code",
   "execution_count": 37,
   "metadata": {
    "Collapsed": "false"
   },
   "outputs": [
    {
     "data": {
      "text/html": [
       "<div>\n",
       "<style scoped>\n",
       "    .dataframe tbody tr th:only-of-type {\n",
       "        vertical-align: middle;\n",
       "    }\n",
       "\n",
       "    .dataframe tbody tr th {\n",
       "        vertical-align: top;\n",
       "    }\n",
       "\n",
       "    .dataframe thead th {\n",
       "        text-align: right;\n",
       "    }\n",
       "</style>\n",
       "<table border=\"1\" class=\"dataframe\">\n",
       "  <thead>\n",
       "    <tr style=\"text-align: right;\">\n",
       "      <th></th>\n",
       "      <th>rec_length</th>\n",
       "      <th>rec_date</th>\n",
       "      <th>rec_year</th>\n",
       "      <th>rec_period</th>\n",
       "      <th>n_speakers</th>\n",
       "      <th>list_speakers</th>\n",
       "      <th>rec_loc</th>\n",
       "      <th>relationships</th>\n",
       "      <th>topics</th>\n",
       "      <th>activity</th>\n",
       "      <th>conv_type</th>\n",
       "      <th>conventions</th>\n",
       "      <th>in_sample</th>\n",
       "      <th>transcriber</th>\n",
       "    </tr>\n",
       "  </thead>\n",
       "  <tbody>\n",
       "    <tr>\n",
       "      <td>S23A</td>\n",
       "      <td>1:50:43</td>\n",
       "      <td>2014-12-27</td>\n",
       "      <td>2014</td>\n",
       "      <td>2014_Q4</td>\n",
       "      <td>4</td>\n",
       "      <td>S0021 S0032 S0094 S0095</td>\n",
       "      <td>Speakers' home</td>\n",
       "      <td>Close family, partners, very close friends</td>\n",
       "      <td>Computer programming, food, wine, temperature,...</td>\n",
       "      <td>Catching up with family over food and presents</td>\n",
       "      <td>Discussing, explaining, anecdote telling</td>\n",
       "      <td>Revised</td>\n",
       "      <td>n</td>\n",
       "      <td>T15</td>\n",
       "    </tr>\n",
       "    <tr>\n",
       "      <td>S24A</td>\n",
       "      <td>0:17:24</td>\n",
       "      <td>2014-09-12</td>\n",
       "      <td>2014</td>\n",
       "      <td>2014_Q3</td>\n",
       "      <td>2</td>\n",
       "      <td>S0261 S0262</td>\n",
       "      <td>Modern Art Museum, London</td>\n",
       "      <td>Close family, partners, very close friends</td>\n",
       "      <td>The art</td>\n",
       "      <td>A couple discussing modern art at a museum</td>\n",
       "      <td>Discussing, explaining, inquiring</td>\n",
       "      <td>Revised</td>\n",
       "      <td>y</td>\n",
       "      <td>T09</td>\n",
       "    </tr>\n",
       "    <tr>\n",
       "      <td>S24D</td>\n",
       "      <td>0:20:00</td>\n",
       "      <td>2016-01-14</td>\n",
       "      <td>2016</td>\n",
       "      <td>2016_Q1</td>\n",
       "      <td>3</td>\n",
       "      <td>S0653 S0654 S0655</td>\n",
       "      <td>Home kitchen, Comberton</td>\n",
       "      <td>Close family, partners, very close friends</td>\n",
       "      <td>Lego Ninjago, Minecraft worlds</td>\n",
       "      <td>Spending time on electronic toys instead of re...</td>\n",
       "      <td>Discusing, explaining</td>\n",
       "      <td>Revised</td>\n",
       "      <td>n</td>\n",
       "      <td>T18</td>\n",
       "    </tr>\n",
       "    <tr>\n",
       "      <td>S24E</td>\n",
       "      <td>0:45:53</td>\n",
       "      <td>2015-09-15</td>\n",
       "      <td>2015</td>\n",
       "      <td>2015_Q3</td>\n",
       "      <td>3</td>\n",
       "      <td>S0519 S0520 S0521</td>\n",
       "      <td>Hunsonby, Cumbria</td>\n",
       "      <td>Close family, partners, very close friends</td>\n",
       "      <td>food, exercise, choir, family plans, family me...</td>\n",
       "      <td>Midweek family dinner</td>\n",
       "      <td>Discussing, explaining, Inquiring, advising, a...</td>\n",
       "      <td>Revised</td>\n",
       "      <td>n</td>\n",
       "      <td>T09</td>\n",
       "    </tr>\n",
       "    <tr>\n",
       "      <td>S263</td>\n",
       "      <td>2:00:00</td>\n",
       "      <td>2016-02-07</td>\n",
       "      <td>2016</td>\n",
       "      <td>2016_Q1</td>\n",
       "      <td>4</td>\n",
       "      <td>S0588 S0589 S0590 S0616</td>\n",
       "      <td>ANON’s home</td>\n",
       "      <td>Close family, partners, very close friends</td>\n",
       "      <td>NaN</td>\n",
       "      <td>NaN</td>\n",
       "      <td>Discussing, explaining</td>\n",
       "      <td>Revised</td>\n",
       "      <td>n</td>\n",
       "      <td>T10</td>\n",
       "    </tr>\n",
       "    <tr>\n",
       "      <td>...</td>\n",
       "      <td>...</td>\n",
       "      <td>...</td>\n",
       "      <td>...</td>\n",
       "      <td>...</td>\n",
       "      <td>...</td>\n",
       "      <td>...</td>\n",
       "      <td>...</td>\n",
       "      <td>...</td>\n",
       "      <td>...</td>\n",
       "      <td>...</td>\n",
       "      <td>...</td>\n",
       "      <td>...</td>\n",
       "      <td>...</td>\n",
       "      <td>...</td>\n",
       "    </tr>\n",
       "    <tr>\n",
       "      <td>SZVB</td>\n",
       "      <td>1:00:31</td>\n",
       "      <td>2015-11-02</td>\n",
       "      <td>2015</td>\n",
       "      <td>2015_Q4</td>\n",
       "      <td>2</td>\n",
       "      <td>S0517 S0525</td>\n",
       "      <td>(ANON’s home, Fradley, Staffs)</td>\n",
       "      <td>Close family, partners, very close friends</td>\n",
       "      <td>Babies, family, friends</td>\n",
       "      <td>Sisters talking about their family (new baby d...</td>\n",
       "      <td>Discussing, explaining, inquiring, anecdote te...</td>\n",
       "      <td>Revised</td>\n",
       "      <td>n</td>\n",
       "      <td>T15</td>\n",
       "    </tr>\n",
       "    <tr>\n",
       "      <td>SZVC</td>\n",
       "      <td>0:32:00</td>\n",
       "      <td>2015-09-14</td>\n",
       "      <td>2015</td>\n",
       "      <td>2015_Q3</td>\n",
       "      <td>2</td>\n",
       "      <td>S0324 S0325</td>\n",
       "      <td>ANON's home, Linton</td>\n",
       "      <td>Close family, partners, very close friends</td>\n",
       "      <td>school orchestra (windband), Playing the Clari...</td>\n",
       "      <td>Friends talking about school</td>\n",
       "      <td>discussing, explaining, inquiring, complaining...</td>\n",
       "      <td>Revised</td>\n",
       "      <td>n</td>\n",
       "      <td>T10</td>\n",
       "    </tr>\n",
       "    <tr>\n",
       "      <td>SZW4</td>\n",
       "      <td>0:21:09</td>\n",
       "      <td>2015-10-19</td>\n",
       "      <td>2015</td>\n",
       "      <td>2015_Q4</td>\n",
       "      <td>2</td>\n",
       "      <td>S0509 S0510</td>\n",
       "      <td>ANON &amp; ANON's home, Hastings</td>\n",
       "      <td>Close family, partners, very close friends</td>\n",
       "      <td>Poetry, Morning Routine, Food, Social Events, ...</td>\n",
       "      <td>Mother and Daughter</td>\n",
       "      <td>Discussing, inquiring, anecdote telling</td>\n",
       "      <td>Revised</td>\n",
       "      <td>n</td>\n",
       "      <td>T18</td>\n",
       "    </tr>\n",
       "    <tr>\n",
       "      <td>SZXQ</td>\n",
       "      <td>0:40:44</td>\n",
       "      <td>2012-03-21</td>\n",
       "      <td>2012</td>\n",
       "      <td>2012_Q1</td>\n",
       "      <td>2</td>\n",
       "      <td>S0058 S0120</td>\n",
       "      <td>Botanic Gardens, Cambridge</td>\n",
       "      <td>Friends, wider family circle</td>\n",
       "      <td>TV, languages, friends, holidays, offices, comedy</td>\n",
       "      <td>NaN</td>\n",
       "      <td>Discussing, explaining, inquiring, complaining...</td>\n",
       "      <td>Original</td>\n",
       "      <td>y</td>\n",
       "      <td>T11</td>\n",
       "    </tr>\n",
       "    <tr>\n",
       "      <td>SZYV</td>\n",
       "      <td>0:21:20</td>\n",
       "      <td>2015-11-04</td>\n",
       "      <td>2015</td>\n",
       "      <td>2015_Q4</td>\n",
       "      <td>2</td>\n",
       "      <td>S0428 S0432</td>\n",
       "      <td>Cambridge University Press Printing House</td>\n",
       "      <td>Friends, wider family circle</td>\n",
       "      <td>Babies, moving house, sharing clothes, sibling...</td>\n",
       "      <td>Lunchtime chat</td>\n",
       "      <td>Discussing, explaining, inquiring</td>\n",
       "      <td>Revised</td>\n",
       "      <td>n</td>\n",
       "      <td>T19</td>\n",
       "    </tr>\n",
       "  </tbody>\n",
       "</table>\n",
       "<p>1251 rows × 14 columns</p>\n",
       "</div>"
      ],
      "text/plain": [
       "     rec_length    rec_date  rec_year rec_period  n_speakers  \\\n",
       "S23A    1:50:43  2014-12-27      2014    2014_Q4           4   \n",
       "S24A    0:17:24  2014-09-12      2014    2014_Q3           2   \n",
       "S24D    0:20:00  2016-01-14      2016    2016_Q1           3   \n",
       "S24E    0:45:53  2015-09-15      2015    2015_Q3           3   \n",
       "S263    2:00:00  2016-02-07      2016    2016_Q1           4   \n",
       "...         ...         ...       ...        ...         ...   \n",
       "SZVB    1:00:31  2015-11-02      2015    2015_Q4           2   \n",
       "SZVC    0:32:00  2015-09-14      2015    2015_Q3           2   \n",
       "SZW4    0:21:09  2015-10-19      2015    2015_Q4           2   \n",
       "SZXQ    0:40:44  2012-03-21      2012    2012_Q1           2   \n",
       "SZYV    0:21:20  2015-11-04      2015    2015_Q4           2   \n",
       "\n",
       "                list_speakers                                    rec_loc  \\\n",
       "S23A  S0021 S0032 S0094 S0095                             Speakers' home   \n",
       "S24A              S0261 S0262                  Modern Art Museum, London   \n",
       "S24D        S0653 S0654 S0655                    Home kitchen, Comberton   \n",
       "S24E        S0519 S0520 S0521                          Hunsonby, Cumbria   \n",
       "S263  S0588 S0589 S0590 S0616                                ANON’s home   \n",
       "...                       ...                                        ...   \n",
       "SZVB              S0517 S0525             (ANON’s home, Fradley, Staffs)   \n",
       "SZVC              S0324 S0325                        ANON's home, Linton   \n",
       "SZW4              S0509 S0510               ANON & ANON's home, Hastings   \n",
       "SZXQ              S0058 S0120                 Botanic Gardens, Cambridge   \n",
       "SZYV              S0428 S0432  Cambridge University Press Printing House   \n",
       "\n",
       "                                   relationships  \\\n",
       "S23A  Close family, partners, very close friends   \n",
       "S24A  Close family, partners, very close friends   \n",
       "S24D  Close family, partners, very close friends   \n",
       "S24E  Close family, partners, very close friends   \n",
       "S263  Close family, partners, very close friends   \n",
       "...                                          ...   \n",
       "SZVB  Close family, partners, very close friends   \n",
       "SZVC  Close family, partners, very close friends   \n",
       "SZW4  Close family, partners, very close friends   \n",
       "SZXQ                Friends, wider family circle   \n",
       "SZYV                Friends, wider family circle   \n",
       "\n",
       "                                                 topics  \\\n",
       "S23A  Computer programming, food, wine, temperature,...   \n",
       "S24A                                            The art   \n",
       "S24D                     Lego Ninjago, Minecraft worlds   \n",
       "S24E  food, exercise, choir, family plans, family me...   \n",
       "S263                                                NaN   \n",
       "...                                                 ...   \n",
       "SZVB                            Babies, family, friends   \n",
       "SZVC  school orchestra (windband), Playing the Clari...   \n",
       "SZW4  Poetry, Morning Routine, Food, Social Events, ...   \n",
       "SZXQ  TV, languages, friends, holidays, offices, comedy   \n",
       "SZYV  Babies, moving house, sharing clothes, sibling...   \n",
       "\n",
       "                                               activity  \\\n",
       "S23A     Catching up with family over food and presents   \n",
       "S24A         A couple discussing modern art at a museum   \n",
       "S24D  Spending time on electronic toys instead of re...   \n",
       "S24E                              Midweek family dinner   \n",
       "S263                                                NaN   \n",
       "...                                                 ...   \n",
       "SZVB  Sisters talking about their family (new baby d...   \n",
       "SZVC                      Friends talking about school    \n",
       "SZW4                               Mother and Daughter    \n",
       "SZXQ                                                NaN   \n",
       "SZYV                                     Lunchtime chat   \n",
       "\n",
       "                                              conv_type conventions in_sample  \\\n",
       "S23A           Discussing, explaining, anecdote telling     Revised         n   \n",
       "S24A                  Discussing, explaining, inquiring     Revised         y   \n",
       "S24D                              Discusing, explaining     Revised         n   \n",
       "S24E  Discussing, explaining, Inquiring, advising, a...     Revised         n   \n",
       "S263                             Discussing, explaining     Revised         n   \n",
       "...                                                 ...         ...       ...   \n",
       "SZVB  Discussing, explaining, inquiring, anecdote te...     Revised         n   \n",
       "SZVC  discussing, explaining, inquiring, complaining...     Revised         n   \n",
       "SZW4            Discussing, inquiring, anecdote telling     Revised         n   \n",
       "SZXQ  Discussing, explaining, inquiring, complaining...    Original         y   \n",
       "SZYV                  Discussing, explaining, inquiring     Revised         n   \n",
       "\n",
       "     transcriber  \n",
       "S23A         T15  \n",
       "S24A         T09  \n",
       "S24D         T18  \n",
       "S24E         T09  \n",
       "S263         T10  \n",
       "...          ...  \n",
       "SZVB         T15  \n",
       "SZVC         T10  \n",
       "SZW4         T18  \n",
       "SZXQ         T11  \n",
       "SZYV         T19  \n",
       "\n",
       "[1251 rows x 14 columns]"
      ]
     },
     "execution_count": 37,
     "metadata": {},
     "output_type": "execute_result"
    }
   ],
   "source": [
    "texts"
   ]
  },
  {
   "cell_type": "markdown",
   "metadata": {
    "Collapsed": "false"
   },
   "source": [
    "## Merge hits and metadata"
   ]
  },
  {
   "cell_type": "code",
   "execution_count": 38,
   "metadata": {
    "Collapsed": "false"
   },
   "outputs": [],
   "source": [
    "df_merged = pd.merge(df_hits, speakers, left_on='speaker', right_on=speakers.index)"
   ]
  },
  {
   "cell_type": "code",
   "execution_count": 39,
   "metadata": {
    "Collapsed": "false"
   },
   "outputs": [],
   "source": [
    "df_merged = pd.merge(df_merged, texts, left_on='doc', right_on=texts.index)"
   ]
  },
  {
   "cell_type": "code",
   "execution_count": 46,
   "metadata": {
    "Collapsed": "false"
   },
   "outputs": [
    {
     "data": {
      "text/html": [
       "<div>\n",
       "<style scoped>\n",
       "    .dataframe tbody tr th:only-of-type {\n",
       "        vertical-align: middle;\n",
       "    }\n",
       "\n",
       "    .dataframe tbody tr th {\n",
       "        vertical-align: top;\n",
       "    }\n",
       "\n",
       "    .dataframe thead th {\n",
       "        text-align: right;\n",
       "    }\n",
       "</style>\n",
       "<table border=\"1\" class=\"dataframe\">\n",
       "  <thead>\n",
       "    <tr style=\"text-align: right;\">\n",
       "      <th></th>\n",
       "      <th>doc</th>\n",
       "      <th>utterance</th>\n",
       "      <th>speaker</th>\n",
       "      <th>query</th>\n",
       "      <th>result</th>\n",
       "      <th>adj_text</th>\n",
       "      <th>adj_semtag</th>\n",
       "      <th>adj_semdesc</th>\n",
       "      <th>exactage</th>\n",
       "      <th>age1994</th>\n",
       "      <th>...</th>\n",
       "      <th>n_speakers</th>\n",
       "      <th>list_speakers</th>\n",
       "      <th>rec_loc</th>\n",
       "      <th>relationships</th>\n",
       "      <th>topics</th>\n",
       "      <th>activity</th>\n",
       "      <th>conv_type</th>\n",
       "      <th>conventions</th>\n",
       "      <th>in_sample</th>\n",
       "      <th>transcriber</th>\n",
       "    </tr>\n",
       "  </thead>\n",
       "  <tbody>\n",
       "    <tr>\n",
       "      <td>0</td>\n",
       "      <td>SN64</td>\n",
       "      <td>521</td>\n",
       "      <td>S0588</td>\n",
       "      <td>that 's ADJ - start_disc</td>\n",
       "      <td>that 's good</td>\n",
       "      <td>good</td>\n",
       "      <td>A5:1</td>\n",
       "      <td>Evaluation:- Good/bad</td>\n",
       "      <td>49</td>\n",
       "      <td>45_59</td>\n",
       "      <td>...</td>\n",
       "      <td>3</td>\n",
       "      <td>S0588 S0589 S0590</td>\n",
       "      <td>ANON’s home.</td>\n",
       "      <td>Close family, partners, very close friends</td>\n",
       "      <td>Party, community market, maps, hospital appoin...</td>\n",
       "      <td>Chatting whilst supper is cooking.</td>\n",
       "      <td>Discussing, Complaining</td>\n",
       "      <td>Revised</td>\n",
       "      <td>n</td>\n",
       "      <td>T10</td>\n",
       "    </tr>\n",
       "    <tr>\n",
       "      <td>1</td>\n",
       "      <td>SN64</td>\n",
       "      <td>577</td>\n",
       "      <td>S0588</td>\n",
       "      <td>that 's ADJ - start_disc</td>\n",
       "      <td>that 's strange</td>\n",
       "      <td>strange</td>\n",
       "      <td>A6:2</td>\n",
       "      <td>Comparing:- Usual/unusual</td>\n",
       "      <td>49</td>\n",
       "      <td>45_59</td>\n",
       "      <td>...</td>\n",
       "      <td>3</td>\n",
       "      <td>S0588 S0589 S0590</td>\n",
       "      <td>ANON’s home.</td>\n",
       "      <td>Close family, partners, very close friends</td>\n",
       "      <td>Party, community market, maps, hospital appoin...</td>\n",
       "      <td>Chatting whilst supper is cooking.</td>\n",
       "      <td>Discussing, Complaining</td>\n",
       "      <td>Revised</td>\n",
       "      <td>n</td>\n",
       "      <td>T10</td>\n",
       "    </tr>\n",
       "    <tr>\n",
       "      <td>2</td>\n",
       "      <td>SN64</td>\n",
       "      <td>834</td>\n",
       "      <td>S0588</td>\n",
       "      <td>that 's ADJ - start_disc</td>\n",
       "      <td>that 's ridiculous</td>\n",
       "      <td>ridiculous</td>\n",
       "      <td>S1:2:6</td>\n",
       "      <td>Sensible</td>\n",
       "      <td>49</td>\n",
       "      <td>45_59</td>\n",
       "      <td>...</td>\n",
       "      <td>3</td>\n",
       "      <td>S0588 S0589 S0590</td>\n",
       "      <td>ANON’s home.</td>\n",
       "      <td>Close family, partners, very close friends</td>\n",
       "      <td>Party, community market, maps, hospital appoin...</td>\n",
       "      <td>Chatting whilst supper is cooking.</td>\n",
       "      <td>Discussing, Complaining</td>\n",
       "      <td>Revised</td>\n",
       "      <td>n</td>\n",
       "      <td>T10</td>\n",
       "    </tr>\n",
       "    <tr>\n",
       "      <td>3</td>\n",
       "      <td>SN64</td>\n",
       "      <td>854</td>\n",
       "      <td>S0588</td>\n",
       "      <td>that 's ADJ - start_disc</td>\n",
       "      <td>that 's ridiculous</td>\n",
       "      <td>ridiculous</td>\n",
       "      <td>S1:2:6</td>\n",
       "      <td>Sensible</td>\n",
       "      <td>49</td>\n",
       "      <td>45_59</td>\n",
       "      <td>...</td>\n",
       "      <td>3</td>\n",
       "      <td>S0588 S0589 S0590</td>\n",
       "      <td>ANON’s home.</td>\n",
       "      <td>Close family, partners, very close friends</td>\n",
       "      <td>Party, community market, maps, hospital appoin...</td>\n",
       "      <td>Chatting whilst supper is cooking.</td>\n",
       "      <td>Discussing, Complaining</td>\n",
       "      <td>Revised</td>\n",
       "      <td>n</td>\n",
       "      <td>T10</td>\n",
       "    </tr>\n",
       "    <tr>\n",
       "      <td>4</td>\n",
       "      <td>SN64</td>\n",
       "      <td>980</td>\n",
       "      <td>S0588</td>\n",
       "      <td>that 's ADJ - start_disc</td>\n",
       "      <td>that 's atrocious</td>\n",
       "      <td>atrocious</td>\n",
       "      <td>A5:1</td>\n",
       "      <td>Evaluation:- Good/bad</td>\n",
       "      <td>49</td>\n",
       "      <td>45_59</td>\n",
       "      <td>...</td>\n",
       "      <td>3</td>\n",
       "      <td>S0588 S0589 S0590</td>\n",
       "      <td>ANON’s home.</td>\n",
       "      <td>Close family, partners, very close friends</td>\n",
       "      <td>Party, community market, maps, hospital appoin...</td>\n",
       "      <td>Chatting whilst supper is cooking.</td>\n",
       "      <td>Discussing, Complaining</td>\n",
       "      <td>Revised</td>\n",
       "      <td>n</td>\n",
       "      <td>T10</td>\n",
       "    </tr>\n",
       "  </tbody>\n",
       "</table>\n",
       "<p>5 rows × 46 columns</p>\n",
       "</div>"
      ],
      "text/plain": [
       "    doc utterance speaker                     query              result  \\\n",
       "0  SN64       521   S0588  that 's ADJ - start_disc        that 's good   \n",
       "1  SN64       577   S0588  that 's ADJ - start_disc     that 's strange   \n",
       "2  SN64       834   S0588  that 's ADJ - start_disc  that 's ridiculous   \n",
       "3  SN64       854   S0588  that 's ADJ - start_disc  that 's ridiculous   \n",
       "4  SN64       980   S0588  that 's ADJ - start_disc   that 's atrocious   \n",
       "\n",
       "     adj_text adj_semtag                 adj_semdesc exactage age1994  ...  \\\n",
       "0        good       A5:1       Evaluation:- Good/bad       49   45_59  ...   \n",
       "1     strange       A6:2  Comparing:- Usual/unusual        49   45_59  ...   \n",
       "2  ridiculous     S1:2:6                    Sensible       49   45_59  ...   \n",
       "3  ridiculous     S1:2:6                    Sensible       49   45_59  ...   \n",
       "4   atrocious       A5:1       Evaluation:- Good/bad       49   45_59  ...   \n",
       "\n",
       "  n_speakers      list_speakers       rec_loc  \\\n",
       "0          3  S0588 S0589 S0590  ANON’s home.   \n",
       "1          3  S0588 S0589 S0590  ANON’s home.   \n",
       "2          3  S0588 S0589 S0590  ANON’s home.   \n",
       "3          3  S0588 S0589 S0590  ANON’s home.   \n",
       "4          3  S0588 S0589 S0590  ANON’s home.   \n",
       "\n",
       "                                relationships  \\\n",
       "0  Close family, partners, very close friends   \n",
       "1  Close family, partners, very close friends   \n",
       "2  Close family, partners, very close friends   \n",
       "3  Close family, partners, very close friends   \n",
       "4  Close family, partners, very close friends   \n",
       "\n",
       "                                              topics  \\\n",
       "0  Party, community market, maps, hospital appoin...   \n",
       "1  Party, community market, maps, hospital appoin...   \n",
       "2  Party, community market, maps, hospital appoin...   \n",
       "3  Party, community market, maps, hospital appoin...   \n",
       "4  Party, community market, maps, hospital appoin...   \n",
       "\n",
       "                              activity                conv_type conventions  \\\n",
       "0  Chatting whilst supper is cooking.   Discussing, Complaining     Revised   \n",
       "1  Chatting whilst supper is cooking.   Discussing, Complaining     Revised   \n",
       "2  Chatting whilst supper is cooking.   Discussing, Complaining     Revised   \n",
       "3  Chatting whilst supper is cooking.   Discussing, Complaining     Revised   \n",
       "4  Chatting whilst supper is cooking.   Discussing, Complaining     Revised   \n",
       "\n",
       "  in_sample transcriber  \n",
       "0         n         T10  \n",
       "1         n         T10  \n",
       "2         n         T10  \n",
       "3         n         T10  \n",
       "4         n         T10  \n",
       "\n",
       "[5 rows x 46 columns]"
      ]
     },
     "execution_count": 46,
     "metadata": {},
     "output_type": "execute_result"
    }
   ],
   "source": [
    "df_merged.head()"
   ]
  },
  {
   "cell_type": "markdown",
   "metadata": {
    "Collapsed": "false"
   },
   "source": [
    "## Write out"
   ]
  },
  {
   "cell_type": "code",
   "execution_count": 41,
   "metadata": {
    "Collapsed": "false"
   },
   "outputs": [],
   "source": [
    "# speaker metadata\n",
    "with open(f\"out/metadata/speakers.csv\", 'w') as f_out:\n",
    "    speakers.to_csv(f_out)"
   ]
  },
  {
   "cell_type": "code",
   "execution_count": 42,
   "metadata": {
    "Collapsed": "false"
   },
   "outputs": [],
   "source": [
    "# merged hits\n",
    "with open(f\"out/merged/{f_name_out}.csv\", 'w') as f_out:\n",
    "    df_merged.to_csv(f_out, index=False)"
   ]
  }
 ],
 "metadata": {
  "kernelspec": {
   "display_name": "bnc2014",
   "language": "python",
   "name": "bnc2014"
  },
  "language_info": {
   "codemirror_mode": {
    "name": "ipython",
    "version": 3
   },
   "file_extension": ".py",
   "mimetype": "text/x-python",
   "name": "python",
   "nbconvert_exporter": "python",
   "pygments_lexer": "ipython3",
   "version": "3.7.3"
  },
  "toc-autonumbering": true,
  "toc-showcode": false,
  "toc-showmarkdowntxt": false
 },
 "nbformat": 4,
 "nbformat_minor": 4
}
